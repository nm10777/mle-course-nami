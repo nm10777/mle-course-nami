{
 "cells": [
  {
   "cell_type": "code",
   "execution_count": 1,
   "id": "588c68de",
   "metadata": {},
   "outputs": [
    {
     "data": {
      "text/plain": [
       "'/Users/namikim/ml/mle-course-nami/mle-basictools-dev'"
      ]
     },
     "execution_count": 1,
     "metadata": {},
     "output_type": "execute_result"
    }
   ],
   "source": [
    "pwd"
   ]
  },
  {
   "cell_type": "code",
   "execution_count": 2,
   "id": "95e25910",
   "metadata": {},
   "outputs": [
    {
     "name": "stdout",
     "output_type": "stream",
     "text": [
      "/Users/namikim/ml/mle-course-nami/mle-basictools-dev\n",
      "total 8\n",
      "drwxr-xr-x   6 namikim  staff   192B Dec  9 20:37 .\n",
      "drwxr-xr-x  10 namikim  staff   320B Dec  9 20:26 ..\n",
      "drwxr-xr-x   3 namikim  staff    96B Dec  9 20:37 .ipynb_checkpoints\n",
      "-rw-r--r--   1 namikim  staff    72B Dec  9 20:37 Untitled.ipynb\n",
      "drwxr-xr-x   2 namikim  staff    64B Dec  9 20:26 dat\n",
      "drwxr-xr-x   2 namikim  staff    64B Dec  9 20:26 nb\n"
     ]
    }
   ],
   "source": [
    "%%bash\n",
    "pwd\n",
    "ls -lah"
   ]
  },
  {
   "cell_type": "code",
   "execution_count": 3,
   "id": "8aa97194",
   "metadata": {},
   "outputs": [
    {
     "name": "stdout",
     "output_type": "stream",
     "text": [
      "\u001b[01;34m..\u001b[0m\r\n",
      "├── \u001b[00mLICENSE\u001b[0m\r\n",
      "├── \u001b[00mREADME.md\u001b[0m\r\n",
      "├── \u001b[01;34m_cheatsheets\u001b[0m\r\n",
      "│   ├── \u001b[00mcli-cheatsheet.pdf\u001b[0m\r\n",
      "│   ├── \u001b[00mconda-cheatsheet.pdf\u001b[0m\r\n",
      "│   ├── \u001b[00mgit-cheatsheet.pdf\u001b[0m\r\n",
      "│   └── \u001b[00mjupyter-notebook-cheatsheet.pdf\u001b[0m\r\n",
      "├── \u001b[01;34massignments\u001b[0m\r\n",
      "│   └── \u001b[01;34mweek-01-mle-basictools\u001b[0m\r\n",
      "├── \u001b[01;34mmle-basictools-dev\u001b[0m\r\n",
      "│   ├── \u001b[00mUntitled.ipynb\u001b[0m\r\n",
      "│   ├── \u001b[01;34mdat\u001b[0m\r\n",
      "│   └── \u001b[01;34mnb\u001b[0m\r\n",
      "└── \u001b[01;34mnative-addition\u001b[0m\r\n",
      "    ├── \u001b[00mLICENSE\u001b[0m\r\n",
      "    ├── \u001b[00mREADME.md\u001b[0m\r\n",
      "    ├── \u001b[00mrequirements.txt\u001b[0m\r\n",
      "    └── \u001b[01;34msrc\u001b[0m\r\n",
      "\r\n",
      "8 directories, 10 files\r\n"
     ]
    }
   ],
   "source": [
    "!tree .. -L 2"
   ]
  },
  {
   "cell_type": "code",
   "execution_count": 4,
   "id": "469dbe71",
   "metadata": {},
   "outputs": [
    {
     "name": "stdout",
     "output_type": "stream",
     "text": [
      "../dat/adult.csv: No such file or directory\r\n"
     ]
    }
   ],
   "source": [
    "!wget https://archive.ics.uci.edu/ml/machine-learning-databases/adult/adult.data -O ../dat/adult.csv"
   ]
  },
  {
   "cell_type": "code",
   "execution_count": 5,
   "id": "f277b603",
   "metadata": {},
   "outputs": [
    {
     "data": {
      "text/plain": [
       "'/Users/namikim/ml/mle-course-nami/mle-basictools-dev'"
      ]
     },
     "execution_count": 5,
     "metadata": {},
     "output_type": "execute_result"
    }
   ],
   "source": [
    "pwd"
   ]
  },
  {
   "cell_type": "code",
   "execution_count": 6,
   "id": "0a9f12e6",
   "metadata": {},
   "outputs": [
    {
     "name": "stdout",
     "output_type": "stream",
     "text": [
      "--2022-12-09 20:41:40--  https://archive.ics.uci.edu/ml/machine-learning-databases/adult/adult.data\n",
      "Resolving archive.ics.uci.edu (archive.ics.uci.edu)... 128.195.10.252\n",
      "Connecting to archive.ics.uci.edu (archive.ics.uci.edu)|128.195.10.252|:443... connected.\n",
      "HTTP request sent, awaiting response... 200 OK\n",
      "Length: 3974305 (3.8M) [application/x-httpd-php]\n",
      "Saving to: ‘dat/adult.csv’\n",
      "\n",
      "dat/adult.csv       100%[===================>]   3.79M  11.2MB/s    in 0.3s    \n",
      "\n",
      "2022-12-09 20:41:40 (11.2 MB/s) - ‘dat/adult.csv’ saved [3974305/3974305]\n",
      "\n"
     ]
    }
   ],
   "source": [
    "!wget https://archive.ics.uci.edu/ml/machine-learning-databases/adult/adult.data -O dat/adult.csv"
   ]
  },
  {
   "cell_type": "code",
   "execution_count": 8,
   "id": "fb22915c",
   "metadata": {},
   "outputs": [
    {
     "name": "stdout",
     "output_type": "stream",
     "text": [
      "\u001b[01;34m..\u001b[0m\r\n",
      "├── \u001b[00mLICENSE\u001b[0m\r\n",
      "├── \u001b[00mREADME.md\u001b[0m\r\n",
      "├── \u001b[01;34m_cheatsheets\u001b[0m\r\n",
      "│   ├── \u001b[00mcli-cheatsheet.pdf\u001b[0m\r\n",
      "│   ├── \u001b[00mconda-cheatsheet.pdf\u001b[0m\r\n",
      "│   ├── \u001b[00mgit-cheatsheet.pdf\u001b[0m\r\n",
      "│   └── \u001b[00mjupyter-notebook-cheatsheet.pdf\u001b[0m\r\n",
      "├── \u001b[01;34massignments\u001b[0m\r\n",
      "│   └── \u001b[01;34mweek-01-mle-basictools\u001b[0m\r\n",
      "│       ├── \u001b[00mREADME.md\u001b[0m\r\n",
      "│       ├── \u001b[01;34mdat\u001b[0m\r\n",
      "│       ├── \u001b[01;34mmd\u001b[0m\r\n",
      "│       ├── \u001b[01;34mnb\u001b[0m\r\n",
      "│       └── \u001b[01;34mpandas-sklearn-basics\u001b[0m\r\n",
      "├── \u001b[01;34mmle-basictools-dev\u001b[0m\r\n",
      "│   ├── \u001b[00mUntitled.ipynb\u001b[0m\r\n",
      "│   ├── \u001b[01;34mdat\u001b[0m\r\n",
      "│   │   └── \u001b[00madult.csv\u001b[0m\r\n",
      "│   └── \u001b[01;34mnb\u001b[0m\r\n",
      "└── \u001b[01;34mnative-addition\u001b[0m\r\n",
      "    ├── \u001b[00mLICENSE\u001b[0m\r\n",
      "    ├── \u001b[00mREADME.md\u001b[0m\r\n",
      "    ├── \u001b[00mrequirements.txt\u001b[0m\r\n",
      "    └── \u001b[01;34msrc\u001b[0m\r\n",
      "        ├── \u001b[00m__init__.py\u001b[0m\r\n",
      "        └── \u001b[00madd.py\u001b[0m\r\n",
      "\r\n",
      "12 directories, 14 files\r\n"
     ]
    }
   ],
   "source": [
    "!tree .. -L 3"
   ]
  },
  {
   "cell_type": "code",
   "execution_count": 12,
   "id": "a108dca3",
   "metadata": {},
   "outputs": [
    {
     "name": "stdout",
     "output_type": "stream",
     "text": [
      "39, State-gov, 77516, Bachelors, 13, Never-married, Adm-clerical, Not-in-family, White, Male, 2174, 0, 40, United-States, <=50K\r\n",
      "50, Self-emp-not-inc, 83311, Bachelors, 13, Married-civ-spouse, Exec-managerial, Husband, White, Male, 0, 0, 13, United-States, <=50K\r\n",
      "38, Private, 215646, HS-grad, 9, Divorced, Handlers-cleaners, Not-in-family, White, Male, 0, 0, 40, United-States, <=50K\r\n",
      "53, Private, 234721, 11th, 7, Married-civ-spouse, Handlers-cleaners, Husband, Black, Male, 0, 0, 40, United-States, <=50K\r\n",
      "28, Private, 338409, Bachelors, 13, Married-civ-spouse, Prof-specialty, Wife, Black, Female, 0, 0, 40, Cuba, <=50K\r\n",
      "37, Private, 284582, Masters, 14, Married-civ-spouse, Exec-managerial, Wife, White, Female, 0, 0, 40, United-States, <=50K\r\n",
      "49, Private, 160187, 9th, 5, Married-spouse-absent, Other-service, Not-in-family, Black, Female, 0, 0, 16, Jamaica, <=50K\r\n",
      "52, Self-emp-not-inc, 209642, HS-grad, 9, Married-civ-spouse, Exec-managerial, Husband, White, Male, 0, 0, 45, United-States, >50K\r\n",
      "31, Private, 45781, Masters, 14, Never-married, Prof-specialty, Not-in-family, White, Female, 14084, 0, 50, United-States, >50K\r\n",
      "42, Private, 159449, Bachelors, 13, Married-civ-spouse, Exec-managerial, Husband, White, Male, 5178, 0, 40, United-States, >50K\r\n"
     ]
    }
   ],
   "source": [
    "!head dat/adult.csv"
   ]
  },
  {
   "cell_type": "code",
   "execution_count": 13,
   "id": "679860ae",
   "metadata": {},
   "outputs": [
    {
     "name": "stdout",
     "output_type": "stream",
     "text": [
      "22, Private, 201490, HS-grad, 9, Never-married, Adm-clerical, Own-child, White, Male, 0, 0, 20, United-States, <=50K\r\n",
      "52, Self-emp-inc, 287927, HS-grad, 9, Married-civ-spouse, Exec-managerial, Wife, White, Female, 15024, 0, 40, United-States, >50K\r\n",
      "\r\n"
     ]
    }
   ],
   "source": [
    "!tail -n 3 dat/adult.csv"
   ]
  },
  {
   "cell_type": "code",
   "execution_count": 14,
   "id": "06705a68",
   "metadata": {},
   "outputs": [
    {
     "name": "stdout",
     "output_type": "stream",
     "text": [
      "   32562 dat/adult.csv\r\n"
     ]
    }
   ],
   "source": [
    "!wc -l dat/adult.csv"
   ]
  },
  {
   "cell_type": "code",
   "execution_count": 15,
   "id": "81e6db63",
   "metadata": {},
   "outputs": [
    {
     "name": "stdout",
     "output_type": "stream",
     "text": [
      "      15\r\n"
     ]
    }
   ],
   "source": [
    "!head -1 dat/adult.csv | sed 's/[^,]//g' | wc -c"
   ]
  },
  {
   "cell_type": "code",
   "execution_count": 16,
   "id": "6ec0498b",
   "metadata": {},
   "outputs": [
    {
     "name": "stdout",
     "output_type": "stream",
     "text": [
      "Collecting package metadata (current_repodata.json): done\n",
      "Solving environment: failed with repodata from current_repodata.json, will retry with next repodata source.\n",
      "Collecting package metadata (repodata.json): done\n",
      "Solving environment: done\n",
      "\n",
      "\n",
      "==> WARNING: A newer version of conda exists. <==\n",
      "  current version: 4.12.0\n",
      "  latest version: 22.11.1\n",
      "\n",
      "Please update conda by running\n",
      "\n",
      "    $ conda update -n base -c defaults conda\n",
      "\n",
      "\n",
      "\n",
      "## Package Plan ##\n",
      "\n",
      "  environment location: /Users/namikim/opt/miniconda3/envs/py39_12\n",
      "\n",
      "  added / updated specs:\n",
      "    - python=3.9.12\n",
      "\n",
      "\n",
      "The following packages will be downloaded:\n",
      "\n",
      "    package                    |            build\n",
      "    ---------------------------|-----------------\n",
      "    certifi-2022.9.24          |   py39hca03da5_0         155 KB\n",
      "    pip-22.3.1                 |   py39hca03da5_0         2.7 MB\n",
      "    python-3.9.12              |       hbdb9e5c_1        10.2 MB\n",
      "    setuptools-65.5.0          |   py39hca03da5_0         1.1 MB\n",
      "    tzdata-2022g               |       h04d1e81_0         114 KB\n",
      "    ------------------------------------------------------------\n",
      "                                           Total:        14.3 MB\n",
      "\n",
      "The following NEW packages will be INSTALLED:\n",
      "\n",
      "  ca-certificates    pkgs/main/osx-arm64::ca-certificates-2022.10.11-hca03da5_0\n",
      "  certifi            pkgs/main/osx-arm64::certifi-2022.9.24-py39hca03da5_0\n",
      "  libcxx             pkgs/main/osx-arm64::libcxx-14.0.6-h848a8c0_0\n",
      "  libffi             pkgs/main/osx-arm64::libffi-3.4.2-hca03da5_6\n",
      "  ncurses            pkgs/main/osx-arm64::ncurses-6.3-h1a28f6b_3\n",
      "  openssl            pkgs/main/osx-arm64::openssl-1.1.1s-h1a28f6b_0\n",
      "  pip                pkgs/main/osx-arm64::pip-22.3.1-py39hca03da5_0\n",
      "  python             pkgs/main/osx-arm64::python-3.9.12-hbdb9e5c_1\n",
      "  readline           pkgs/main/osx-arm64::readline-8.2-h1a28f6b_0\n",
      "  setuptools         pkgs/main/osx-arm64::setuptools-65.5.0-py39hca03da5_0\n",
      "  sqlite             pkgs/main/osx-arm64::sqlite-3.40.0-h7a7dc30_0\n",
      "  tk                 pkgs/main/osx-arm64::tk-8.6.12-hb8d0fd4_0\n",
      "  tzdata             pkgs/main/noarch::tzdata-2022g-h04d1e81_0\n",
      "  wheel              pkgs/main/noarch::wheel-0.37.1-pyhd3eb1b0_0\n",
      "  xz                 pkgs/main/osx-arm64::xz-5.2.8-h80987f9_0\n",
      "  zlib               pkgs/main/osx-arm64::zlib-1.2.13-h5a0b063_0\n",
      "\n",
      "\n",
      "\n",
      "Downloading and Extracting Packages\n",
      "tzdata-2022g         | 114 KB    | ##################################### | 100% \n",
      "pip-22.3.1           | 2.7 MB    | ##################################### | 100% \n",
      "certifi-2022.9.24    | 155 KB    | ##################################### | 100% \n",
      "setuptools-65.5.0    | 1.1 MB    | ##################################### | 100% \n",
      "python-3.9.12        | 10.2 MB   | ##################################### | 100% \n",
      "Preparing transaction: done\n",
      "Verifying transaction: done\n",
      "Executing transaction: done\n",
      "#\n",
      "# To activate this environment, use\n",
      "#\n",
      "#     $ conda activate py39_12\n",
      "#\n",
      "# To deactivate an active environment, use\n",
      "#\n",
      "#     $ conda deactivate\n",
      "\n"
     ]
    }
   ],
   "source": [
    "!conda create --name py39_12 python=3.9.12 --yes"
   ]
  },
  {
   "cell_type": "code",
   "execution_count": 17,
   "id": "df5d9b94",
   "metadata": {},
   "outputs": [
    {
     "name": "stdout",
     "output_type": "stream",
     "text": [
      "# conda environments:\n",
      "#\n",
      "                         /Users/namikim/anaconda3\n",
      "                         /Users/namikim/anaconda3/envs/berkeley\n",
      "                         /Users/namikim/anaconda3/envs/example\n",
      "                         /Users/namikim/anaconda3/envs/fourthbrain\n",
      "                         /Users/namikim/anaconda3/envs/ml-dev\n",
      "base                     /Users/namikim/opt/miniconda3\n",
      "ml-dev                *  /Users/namikim/opt/miniconda3/envs/ml-dev\n",
      "ml-specialization        /Users/namikim/opt/miniconda3/envs/ml-specialization\n",
      "py39_12                  /Users/namikim/opt/miniconda3/envs/py39_12\n",
      "\n",
      "\n",
      "Note: you may need to restart the kernel to use updated packages.\n"
     ]
    }
   ],
   "source": [
    "conda env list"
   ]
  },
  {
   "cell_type": "code",
   "execution_count": 18,
   "id": "b4625c65",
   "metadata": {},
   "outputs": [
    {
     "name": "stdout",
     "output_type": "stream",
     "text": [
      "Python 3.10.8\n",
      "/Users/namikim/opt/miniconda3/envs/ml-dev/bin/python\n",
      "# conda environments:\n",
      "#\n",
      "                         /Users/namikim/anaconda3\n",
      "                         /Users/namikim/anaconda3/envs/berkeley\n",
      "                         /Users/namikim/anaconda3/envs/example\n",
      "                         /Users/namikim/anaconda3/envs/fourthbrain\n",
      "                         /Users/namikim/anaconda3/envs/ml-dev\n",
      "base                     /Users/namikim/opt/miniconda3\n",
      "ml-dev                *  /Users/namikim/opt/miniconda3/envs/ml-dev\n",
      "ml-specialization        /Users/namikim/opt/miniconda3/envs/ml-specialization\n",
      "py39_12                  /Users/namikim/opt/miniconda3/envs/py39_12\n",
      "\n"
     ]
    }
   ],
   "source": [
    "%%bash\n",
    "\n",
    "python --version\n",
    "which python\n",
    "conda env list"
   ]
  },
  {
   "cell_type": "code",
   "execution_count": 19,
   "id": "fe32e633",
   "metadata": {},
   "outputs": [
    {
     "name": "stdout",
     "output_type": "stream",
     "text": [
      "/Users/namikim/opt/miniconda3/envs/ml-dev/bin/pip\r\n"
     ]
    }
   ],
   "source": [
    "!which pip"
   ]
  },
  {
   "cell_type": "code",
   "execution_count": null,
   "id": "a12401ec",
   "metadata": {},
   "outputs": [],
   "source": [
    "cd .."
   ]
  }
 ],
 "metadata": {
  "kernelspec": {
   "display_name": "Python 3 (ipykernel)",
   "language": "python",
   "name": "python3"
  },
  "language_info": {
   "codemirror_mode": {
    "name": "ipython",
    "version": 3
   },
   "file_extension": ".py",
   "mimetype": "text/x-python",
   "name": "python",
   "nbconvert_exporter": "python",
   "pygments_lexer": "ipython3",
   "version": "3.10.8"
  }
 },
 "nbformat": 4,
 "nbformat_minor": 5
}
